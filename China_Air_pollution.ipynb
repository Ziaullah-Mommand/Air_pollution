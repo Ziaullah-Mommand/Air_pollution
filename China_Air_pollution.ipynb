{
  "nbformat": 4,
  "nbformat_minor": 0,
  "metadata": {
    "colab": {
      "name": "China Air pollution.ipynb",
      "version": "0.3.2",
      "provenance": [],
      "include_colab_link": true
    },
    "kernelspec": {
      "name": "python3",
      "display_name": "Python 3"
    }
  },
  "cells": [
    {
      "cell_type": "markdown",
      "metadata": {
        "id": "view-in-github",
        "colab_type": "text"
      },
      "source": [
        "<a href=\"https://colab.research.google.com/github/Ziaullah-Mommand/Air_pollution/blob/master/China_Air_pollution.ipynb\" target=\"_parent\"><img src=\"https://colab.research.google.com/assets/colab-badge.svg\" alt=\"Open In Colab\"/></a>"
      ]
    },
    {
      "metadata": {
        "id": "dgyg9OuJj-rP",
        "colab_type": "code",
        "outputId": "5c4d2ff5-4f97-4982-d06e-b28a2425890e",
        "colab": {
          "base_uri": "https://localhost:8080/",
          "height": 289
        }
      },
      "cell_type": "code",
      "source": [
        "#import needed libraries & float format definition\n",
        "\n",
        "import csv\n",
        "import pandas as pd\n",
        "import numpy as np\n",
        "import matplotlib.pyplot as plt\n",
        "import seaborn as sns\n",
        "import datetime as dt\n",
        "from scipy import stats\n",
        "from scipy.stats import norm\n",
        "import re\n",
        "%matplotlib inline\n",
        "# Reading and showing head data\n",
        "air_data = pd.read_csv(\"beijing.csv\")\n",
        "\n",
        "\n",
        "air_data.drop('CityPinyan', axis=1, inplace=True)\n",
        "air_data.drop('SitePinyan', axis=1, inplace=True)\n",
        "air_data.drop('AQI_qualitative', axis=1, inplace=True)\n",
        "    \n",
        "indexNames = air_data[air_data['CityAvgAQI'] == 0 ].index\n",
        "get_hyphen_aqi = air_data[air_data['AQI'] == 0 ].index\n",
        "air_data.drop(indexNames , inplace=True)\n",
        "air_data.head()"
      ],
      "execution_count": 2,
      "outputs": [
        {
          "output_type": "execute_result",
          "data": {
            "text/html": [
              "<div>\n",
              "<style scoped>\n",
              "    .dataframe tbody tr th:only-of-type {\n",
              "        vertical-align: middle;\n",
              "    }\n",
              "\n",
              "    .dataframe tbody tr th {\n",
              "        vertical-align: top;\n",
              "    }\n",
              "\n",
              "    .dataframe thead th {\n",
              "        text-align: right;\n",
              "    }\n",
              "</style>\n",
              "<table border=\"1\" class=\"dataframe\">\n",
              "  <thead>\n",
              "    <tr style=\"text-align: right;\">\n",
              "      <th></th>\n",
              "      <th>id</th>\n",
              "      <th>CityEnglish</th>\n",
              "      <th>CityAvgAQI</th>\n",
              "      <th>AQI</th>\n",
              "      <th>PM2_5</th>\n",
              "      <th>PM10</th>\n",
              "      <th>CO</th>\n",
              "      <th>NO2</th>\n",
              "      <th>SO2</th>\n",
              "      <th>O3_1h</th>\n",
              "      <th>O3_8h</th>\n",
              "      <th>Date</th>\n",
              "      <th>Hours</th>\n",
              "    </tr>\n",
              "  </thead>\n",
              "  <tbody>\n",
              "    <tr>\n",
              "      <th>0</th>\n",
              "      <td>18</td>\n",
              "      <td>beijing</td>\n",
              "      <td>154</td>\n",
              "      <td>155</td>\n",
              "      <td>118</td>\n",
              "      <td>139</td>\n",
              "      <td>1.4</td>\n",
              "      <td>0</td>\n",
              "      <td>2</td>\n",
              "      <td>2</td>\n",
              "      <td>91</td>\n",
              "      <td>2015-09-16</td>\n",
              "      <td>0</td>\n",
              "    </tr>\n",
              "    <tr>\n",
              "      <th>1</th>\n",
              "      <td>19</td>\n",
              "      <td>beijing</td>\n",
              "      <td>154</td>\n",
              "      <td>160</td>\n",
              "      <td>122</td>\n",
              "      <td>149</td>\n",
              "      <td>1.3</td>\n",
              "      <td>113</td>\n",
              "      <td>9</td>\n",
              "      <td>45</td>\n",
              "      <td>128</td>\n",
              "      <td>2015-09-16</td>\n",
              "      <td>0</td>\n",
              "    </tr>\n",
              "    <tr>\n",
              "      <th>2</th>\n",
              "      <td>20</td>\n",
              "      <td>beijing</td>\n",
              "      <td>154</td>\n",
              "      <td>153</td>\n",
              "      <td>117</td>\n",
              "      <td>121</td>\n",
              "      <td>1.3</td>\n",
              "      <td>123</td>\n",
              "      <td>9</td>\n",
              "      <td>48</td>\n",
              "      <td>123</td>\n",
              "      <td>2015-09-16</td>\n",
              "      <td>0</td>\n",
              "    </tr>\n",
              "    <tr>\n",
              "      <th>3</th>\n",
              "      <td>21</td>\n",
              "      <td>beijing</td>\n",
              "      <td>154</td>\n",
              "      <td>144</td>\n",
              "      <td>110</td>\n",
              "      <td>136</td>\n",
              "      <td>1.1</td>\n",
              "      <td>59</td>\n",
              "      <td>2</td>\n",
              "      <td>13</td>\n",
              "      <td>84</td>\n",
              "      <td>2015-09-16</td>\n",
              "      <td>0</td>\n",
              "    </tr>\n",
              "    <tr>\n",
              "      <th>4</th>\n",
              "      <td>22</td>\n",
              "      <td>beijing</td>\n",
              "      <td>154</td>\n",
              "      <td>133</td>\n",
              "      <td>101</td>\n",
              "      <td>123</td>\n",
              "      <td>1.4</td>\n",
              "      <td>111</td>\n",
              "      <td>5</td>\n",
              "      <td>2</td>\n",
              "      <td>99</td>\n",
              "      <td>2015-09-16</td>\n",
              "      <td>0</td>\n",
              "    </tr>\n",
              "  </tbody>\n",
              "</table>\n",
              "</div>"
            ],
            "text/plain": [
              "   id CityEnglish  CityAvgAQI  AQI  PM2_5  PM10   CO  NO2  SO2  O3_1h  O3_8h  \\\n",
              "0  18     beijing         154  155    118   139  1.4    0    2      2     91   \n",
              "1  19     beijing         154  160    122   149  1.3  113    9     45    128   \n",
              "2  20     beijing         154  153    117   121  1.3  123    9     48    123   \n",
              "3  21     beijing         154  144    110   136  1.1   59    2     13     84   \n",
              "4  22     beijing         154  133    101   123  1.4  111    5      2     99   \n",
              "\n",
              "         Date  Hours  \n",
              "0  2015-09-16      0  \n",
              "1  2015-09-16      0  \n",
              "2  2015-09-16      0  \n",
              "3  2015-09-16      0  \n",
              "4  2015-09-16      0  "
            ]
          },
          "metadata": {
            "tags": []
          },
          "execution_count": 2
        }
      ]
    },
    {
      "metadata": {
        "id": "TYsRblU4mXub",
        "colab_type": "code",
        "colab": {}
      },
      "cell_type": "code",
      "source": [
        "get_hyphen_aqi = air_data[air_data['AQI'] == 0 ].index\n",
        "air_data.drop(get_hyphen_aqi , inplace=True)"
      ],
      "execution_count": 0,
      "outputs": []
    },
    {
      "metadata": {
        "id": "6Aw67B1CmXhG",
        "colab_type": "code",
        "colab": {}
      },
      "cell_type": "code",
      "source": [
        "get_hyphen_no2 = air_data[air_data['NO2'] == 0 ].index\n",
        "air_data.drop(get_hyphen_no2 , inplace=True)"
      ],
      "execution_count": 0,
      "outputs": []
    },
    {
      "metadata": {
        "id": "GgXpaLcbpXI6",
        "colab_type": "code",
        "outputId": "babb0df7-8ffe-4b1d-83b9-f5fb7bfc6395",
        "colab": {
          "base_uri": "https://localhost:8080/",
          "height": 289
        }
      },
      "cell_type": "code",
      "source": [
        "air_data.head()"
      ],
      "execution_count": 4,
      "outputs": [
        {
          "output_type": "execute_result",
          "data": {
            "text/html": [
              "<div>\n",
              "<style scoped>\n",
              "    .dataframe tbody tr th:only-of-type {\n",
              "        vertical-align: middle;\n",
              "    }\n",
              "\n",
              "    .dataframe tbody tr th {\n",
              "        vertical-align: top;\n",
              "    }\n",
              "\n",
              "    .dataframe thead th {\n",
              "        text-align: right;\n",
              "    }\n",
              "</style>\n",
              "<table border=\"1\" class=\"dataframe\">\n",
              "  <thead>\n",
              "    <tr style=\"text-align: right;\">\n",
              "      <th></th>\n",
              "      <th>id</th>\n",
              "      <th>CityEnglish</th>\n",
              "      <th>CityAvgAQI</th>\n",
              "      <th>AQI</th>\n",
              "      <th>PM2_5</th>\n",
              "      <th>PM10</th>\n",
              "      <th>CO</th>\n",
              "      <th>NO2</th>\n",
              "      <th>SO2</th>\n",
              "      <th>O3_1h</th>\n",
              "      <th>O3_8h</th>\n",
              "      <th>Date</th>\n",
              "      <th>Hours</th>\n",
              "    </tr>\n",
              "  </thead>\n",
              "  <tbody>\n",
              "    <tr>\n",
              "      <th>1</th>\n",
              "      <td>19</td>\n",
              "      <td>beijing</td>\n",
              "      <td>154</td>\n",
              "      <td>160</td>\n",
              "      <td>122</td>\n",
              "      <td>149</td>\n",
              "      <td>1.3</td>\n",
              "      <td>113</td>\n",
              "      <td>9</td>\n",
              "      <td>45</td>\n",
              "      <td>128</td>\n",
              "      <td>2015-09-16</td>\n",
              "      <td>0</td>\n",
              "    </tr>\n",
              "    <tr>\n",
              "      <th>2</th>\n",
              "      <td>20</td>\n",
              "      <td>beijing</td>\n",
              "      <td>154</td>\n",
              "      <td>153</td>\n",
              "      <td>117</td>\n",
              "      <td>121</td>\n",
              "      <td>1.3</td>\n",
              "      <td>123</td>\n",
              "      <td>9</td>\n",
              "      <td>48</td>\n",
              "      <td>123</td>\n",
              "      <td>2015-09-16</td>\n",
              "      <td>0</td>\n",
              "    </tr>\n",
              "    <tr>\n",
              "      <th>3</th>\n",
              "      <td>21</td>\n",
              "      <td>beijing</td>\n",
              "      <td>154</td>\n",
              "      <td>144</td>\n",
              "      <td>110</td>\n",
              "      <td>136</td>\n",
              "      <td>1.1</td>\n",
              "      <td>59</td>\n",
              "      <td>2</td>\n",
              "      <td>13</td>\n",
              "      <td>84</td>\n",
              "      <td>2015-09-16</td>\n",
              "      <td>0</td>\n",
              "    </tr>\n",
              "    <tr>\n",
              "      <th>4</th>\n",
              "      <td>22</td>\n",
              "      <td>beijing</td>\n",
              "      <td>154</td>\n",
              "      <td>133</td>\n",
              "      <td>101</td>\n",
              "      <td>123</td>\n",
              "      <td>1.4</td>\n",
              "      <td>111</td>\n",
              "      <td>5</td>\n",
              "      <td>2</td>\n",
              "      <td>99</td>\n",
              "      <td>2015-09-16</td>\n",
              "      <td>0</td>\n",
              "    </tr>\n",
              "    <tr>\n",
              "      <th>5</th>\n",
              "      <td>23</td>\n",
              "      <td>beijing</td>\n",
              "      <td>154</td>\n",
              "      <td>163</td>\n",
              "      <td>124</td>\n",
              "      <td>153</td>\n",
              "      <td>1.9</td>\n",
              "      <td>191</td>\n",
              "      <td>2</td>\n",
              "      <td>3</td>\n",
              "      <td>125</td>\n",
              "      <td>2015-09-16</td>\n",
              "      <td>0</td>\n",
              "    </tr>\n",
              "  </tbody>\n",
              "</table>\n",
              "</div>"
            ],
            "text/plain": [
              "   id CityEnglish  CityAvgAQI  AQI  PM2_5  PM10   CO  NO2  SO2  O3_1h  O3_8h  \\\n",
              "1  19     beijing         154  160    122   149  1.3  113    9     45    128   \n",
              "2  20     beijing         154  153    117   121  1.3  123    9     48    123   \n",
              "3  21     beijing         154  144    110   136  1.1   59    2     13     84   \n",
              "4  22     beijing         154  133    101   123  1.4  111    5      2     99   \n",
              "5  23     beijing         154  163    124   153  1.9  191    2      3    125   \n",
              "\n",
              "         Date  Hours  \n",
              "1  2015-09-16      0  \n",
              "2  2015-09-16      0  \n",
              "3  2015-09-16      0  \n",
              "4  2015-09-16      0  \n",
              "5  2015-09-16      0  "
            ]
          },
          "metadata": {
            "tags": []
          },
          "execution_count": 4
        }
      ]
    },
    {
      "metadata": {
        "id": "IbfMs-6kpd85",
        "colab_type": "code",
        "colab": {}
      },
      "cell_type": "code",
      "source": [
        "aqi = air_data['AQI']\n",
        "arr_aqi = np.asarray(aqi)\n",
        "arr_aqi.sort()\n",
        "arr_aqi"
      ],
      "execution_count": 0,
      "outputs": []
    },
    {
      "metadata": {
        "id": "CqitKor2HlWZ",
        "colab_type": "code",
        "outputId": "8f2e8593-2466-493d-8aa7-dfe8f3221abb",
        "colab": {
          "base_uri": "https://localhost:8080/",
          "height": 34
        }
      },
      "cell_type": "code",
      "source": [
        "#aqi_int = air_data['AQI'].convert_objects(convert_numeric=True)\n",
        "#aqi_int= pd.to_numeric(air_data['AQI'], errors='ignore')\n",
        "aqi_mean = np.mean(air_data['AQI'])\n",
        "air_data['AQI'].replace(0, aqi_mean, regex=True)\n",
        "\n",
        "print(aqi_mean)\n",
        "\n"
      ],
      "execution_count": 6,
      "outputs": [
        {
          "output_type": "stream",
          "text": [
            "155.95275590551182\n"
          ],
          "name": "stdout"
        }
      ]
    },
    {
      "metadata": {
        "id": "gr7alXTlPHzF",
        "colab_type": "code",
        "outputId": "0c85a70d-05fd-4575-e4da-5814ce1b1299",
        "colab": {
          "base_uri": "https://localhost:8080/",
          "height": 34
        }
      },
      "cell_type": "code",
      "source": [
        "pm2_mean = np.mean(air_data['PM2_5'])\n",
        "air_data['PM2_5'].replace(0, pm2_mean, regex=True)\n",
        "print(pm2_mean)"
      ],
      "execution_count": 7,
      "outputs": [
        {
          "output_type": "stream",
          "text": [
            "117.17847769028872\n"
          ],
          "name": "stdout"
        }
      ]
    },
    {
      "metadata": {
        "id": "fKWQ90M2PbGp",
        "colab_type": "code",
        "outputId": "7f4d5026-0363-4d1a-db75-6f80cfdd158d",
        "colab": {
          "base_uri": "https://localhost:8080/",
          "height": 34
        }
      },
      "cell_type": "code",
      "source": [
        "pm10_mean = np.mean(air_data['PM10'])\n",
        "air_data['PM10'].replace(0, pm10_mean, regex=True)\n",
        "print(pm10_mean)"
      ],
      "execution_count": 8,
      "outputs": [
        {
          "output_type": "stream",
          "text": [
            "70.23359580052494\n"
          ],
          "name": "stdout"
        }
      ]
    },
    {
      "metadata": {
        "id": "Zg96S79zUrLY",
        "colab_type": "code",
        "outputId": "2c04290f-a956-41cd-ffe4-2b8b25b1d257",
        "colab": {
          "base_uri": "https://localhost:8080/",
          "height": 34
        }
      },
      "cell_type": "code",
      "source": [
        "co = np.mean(air_data['CO'])\n",
        "air_data['CO'].replace(0, co, regex=True)\n",
        "print(co)"
      ],
      "execution_count": 0,
      "outputs": [
        {
          "output_type": "stream",
          "text": [
            "1.07156862745098\n"
          ],
          "name": "stdout"
        }
      ]
    },
    {
      "metadata": {
        "id": "8OR9D-iQYKJT",
        "colab_type": "code",
        "outputId": "89399644-f894-4aae-f187-1730a5625112",
        "colab": {
          "base_uri": "https://localhost:8080/",
          "height": 34
        }
      },
      "cell_type": "code",
      "source": [
        "no2 = np.mean(air_data['NO2'])\n",
        "air_data['NO2'].replace(0, no2, regex=True)\n",
        "print(no2)"
      ],
      "execution_count": 9,
      "outputs": [
        {
          "output_type": "stream",
          "text": [
            "55.463254593175854\n"
          ],
          "name": "stdout"
        }
      ]
    },
    {
      "metadata": {
        "id": "2HPrPjwDY1qK",
        "colab_type": "code",
        "outputId": "bde967a8-8934-4923-89c1-0a22a667dc70",
        "colab": {
          "base_uri": "https://localhost:8080/",
          "height": 34
        }
      },
      "cell_type": "code",
      "source": [
        "so2 = np.mean(air_data['SO2'])\n",
        "air_data['SO2'].replace(0, so2, regex=True)\n",
        "print(so2)"
      ],
      "execution_count": 10,
      "outputs": [
        {
          "output_type": "stream",
          "text": [
            "6.753280839895013\n"
          ],
          "name": "stdout"
        }
      ]
    },
    {
      "metadata": {
        "id": "vDdfFC7tZWR0",
        "colab_type": "code",
        "outputId": "7b17c0c1-d75d-41da-e092-8a857bb5d79f",
        "colab": {
          "base_uri": "https://localhost:8080/",
          "height": 34
        }
      },
      "cell_type": "code",
      "source": [
        "o3_h1 = np.mean(air_data['O3_1h'])\n",
        "air_data['O3_1h'].replace(0, o3_h1, regex=True)\n",
        "print(o3_h1)"
      ],
      "execution_count": 0,
      "outputs": [
        {
          "output_type": "stream",
          "text": [
            "76.55637254901961\n"
          ],
          "name": "stdout"
        }
      ]
    },
    {
      "metadata": {
        "id": "Ft8S3eL2Z6bW",
        "colab_type": "code",
        "outputId": "21c6af24-d83c-44f0-a1ed-2f83b0e45c29",
        "colab": {
          "base_uri": "https://localhost:8080/",
          "height": 34
        }
      },
      "cell_type": "code",
      "source": [
        "o3_h8 = np.mean(air_data['O3_8h'])\n",
        "air_data['O3_8h'].replace(0, o3_h8, regex=True)\n",
        "print(o3_h8)"
      ],
      "execution_count": 11,
      "outputs": [
        {
          "output_type": "stream",
          "text": [
            "86.02230971128608\n"
          ],
          "name": "stdout"
        }
      ]
    },
    {
      "metadata": {
        "id": "0WUR7yDesMuT",
        "colab_type": "text"
      },
      "cell_type": "markdown",
      "source": [
        "**`Finding outliers for AQI`**"
      ]
    },
    {
      "metadata": {
        "id": "hDPKNNBpoJnE",
        "colab_type": "code",
        "colab": {
          "base_uri": "https://localhost:8080/",
          "height": 34
        },
        "outputId": "9f14c64e-8f84-4728-b793-ab1e0d53e830"
      },
      "cell_type": "code",
      "source": [
        "cleaned_aqi = air_data['AQI'].replace(0, aqi_mean, regex=True)\n",
        "arr = np.asarray(cleaned_aqi)\n",
        "sorted_arr = np.sort(arr)\n",
        "## finding outlires \n",
        "outliers=[]\n",
        "def detect_outlier(data_1):\n",
        "    \n",
        "    threshold=3\n",
        "    mean_1 = np.mean(data_1)\n",
        "    std_1 =np.std(data_1)\n",
        "    \n",
        "    for y in data_1:\n",
        "        z_score= (y - mean_1)/std_1 \n",
        "        if np.abs(z_score) > threshold:\n",
        "            outliers.append(y)\n",
        "    return outliers\n",
        "outlier_datapoints = detect_outlier(sorted_arr)\n",
        "print(outlier_datapoints)"
      ],
      "execution_count": 12,
      "outputs": [
        {
          "output_type": "stream",
          "text": [
            "[]\n"
          ],
          "name": "stdout"
        }
      ]
    },
    {
      "metadata": {
        "id": "yQz0D14ZuCRM",
        "colab_type": "code",
        "colab": {}
      },
      "cell_type": "code",
      "source": [
        "cleaned_aqi = air_data['AQI'].replace(0, aqi_mean, regex=True)\n",
        "arr = np.asarray(cleaned_aqi)\n",
        "sorted_arr = np.sort(arr)\n",
        "q1, q3= np.percentile(sorted_arr,[25,75])\n"
      ],
      "execution_count": 0,
      "outputs": []
    },
    {
      "metadata": {
        "id": "O8WbklSmuuR1",
        "colab_type": "code",
        "outputId": "e0abfc19-1b37-4c83-9b60-e4ec58ccfcc4",
        "colab": {
          "base_uri": "https://localhost:8080/",
          "height": 34
        }
      },
      "cell_type": "code",
      "source": [
        "iqr = q3-q1\n",
        "iqr"
      ],
      "execution_count": 14,
      "outputs": [
        {
          "output_type": "execute_result",
          "data": {
            "text/plain": [
              "84.0"
            ]
          },
          "metadata": {
            "tags": []
          },
          "execution_count": 14
        }
      ]
    },
    {
      "metadata": {
        "id": "GjKNChOguzi-",
        "colab_type": "code",
        "colab": {}
      },
      "cell_type": "code",
      "source": [
        "lower_bound = q1 - (1.5 * q1)\n",
        "upper_bound = q3 + (1.5 * q3)"
      ],
      "execution_count": 0,
      "outputs": []
    },
    {
      "metadata": {
        "id": "E7-02FUlu7GD",
        "colab_type": "code",
        "outputId": "8c29672c-5863-4ddb-e387-5151e3aa9d2b",
        "colab": {
          "base_uri": "https://localhost:8080/",
          "height": 34
        }
      },
      "cell_type": "code",
      "source": [
        "lower_bound"
      ],
      "execution_count": 16,
      "outputs": [
        {
          "output_type": "execute_result",
          "data": {
            "text/plain": [
              "-60.0"
            ]
          },
          "metadata": {
            "tags": []
          },
          "execution_count": 16
        }
      ]
    },
    {
      "metadata": {
        "id": "GKHizMSku942",
        "colab_type": "code",
        "outputId": "69d335cb-5cc1-4ba0-e697-c60d385dc49f",
        "colab": {
          "base_uri": "https://localhost:8080/",
          "height": 34
        }
      },
      "cell_type": "code",
      "source": [
        "upper_bound"
      ],
      "execution_count": 17,
      "outputs": [
        {
          "output_type": "execute_result",
          "data": {
            "text/plain": [
              "510.0"
            ]
          },
          "metadata": {
            "tags": []
          },
          "execution_count": 17
        }
      ]
    },
    {
      "metadata": {
        "id": "YFfMCHmYvG_q",
        "colab_type": "code",
        "outputId": "89fe1d9c-25eb-4c52-9373-86df0810cfa1",
        "colab": {
          "base_uri": "https://localhost:8080/",
          "height": 289
        }
      },
      "cell_type": "code",
      "source": [
        "air_data.head()"
      ],
      "execution_count": 18,
      "outputs": [
        {
          "output_type": "execute_result",
          "data": {
            "text/html": [
              "<div>\n",
              "<style scoped>\n",
              "    .dataframe tbody tr th:only-of-type {\n",
              "        vertical-align: middle;\n",
              "    }\n",
              "\n",
              "    .dataframe tbody tr th {\n",
              "        vertical-align: top;\n",
              "    }\n",
              "\n",
              "    .dataframe thead th {\n",
              "        text-align: right;\n",
              "    }\n",
              "</style>\n",
              "<table border=\"1\" class=\"dataframe\">\n",
              "  <thead>\n",
              "    <tr style=\"text-align: right;\">\n",
              "      <th></th>\n",
              "      <th>id</th>\n",
              "      <th>CityEnglish</th>\n",
              "      <th>CityAvgAQI</th>\n",
              "      <th>AQI</th>\n",
              "      <th>PM2_5</th>\n",
              "      <th>PM10</th>\n",
              "      <th>CO</th>\n",
              "      <th>NO2</th>\n",
              "      <th>SO2</th>\n",
              "      <th>O3_1h</th>\n",
              "      <th>O3_8h</th>\n",
              "      <th>Date</th>\n",
              "      <th>Hours</th>\n",
              "    </tr>\n",
              "  </thead>\n",
              "  <tbody>\n",
              "    <tr>\n",
              "      <th>1</th>\n",
              "      <td>19</td>\n",
              "      <td>beijing</td>\n",
              "      <td>154</td>\n",
              "      <td>20</td>\n",
              "      <td>122</td>\n",
              "      <td>149</td>\n",
              "      <td>1.3</td>\n",
              "      <td>113</td>\n",
              "      <td>9</td>\n",
              "      <td>45</td>\n",
              "      <td>128</td>\n",
              "      <td>2015-09-16</td>\n",
              "      <td>0</td>\n",
              "    </tr>\n",
              "    <tr>\n",
              "      <th>2</th>\n",
              "      <td>20</td>\n",
              "      <td>beijing</td>\n",
              "      <td>154</td>\n",
              "      <td>22</td>\n",
              "      <td>117</td>\n",
              "      <td>121</td>\n",
              "      <td>1.3</td>\n",
              "      <td>123</td>\n",
              "      <td>9</td>\n",
              "      <td>48</td>\n",
              "      <td>123</td>\n",
              "      <td>2015-09-16</td>\n",
              "      <td>0</td>\n",
              "    </tr>\n",
              "    <tr>\n",
              "      <th>3</th>\n",
              "      <td>21</td>\n",
              "      <td>beijing</td>\n",
              "      <td>154</td>\n",
              "      <td>23</td>\n",
              "      <td>110</td>\n",
              "      <td>136</td>\n",
              "      <td>1.1</td>\n",
              "      <td>59</td>\n",
              "      <td>2</td>\n",
              "      <td>13</td>\n",
              "      <td>84</td>\n",
              "      <td>2015-09-16</td>\n",
              "      <td>0</td>\n",
              "    </tr>\n",
              "    <tr>\n",
              "      <th>4</th>\n",
              "      <td>22</td>\n",
              "      <td>beijing</td>\n",
              "      <td>154</td>\n",
              "      <td>24</td>\n",
              "      <td>101</td>\n",
              "      <td>123</td>\n",
              "      <td>1.4</td>\n",
              "      <td>111</td>\n",
              "      <td>5</td>\n",
              "      <td>2</td>\n",
              "      <td>99</td>\n",
              "      <td>2015-09-16</td>\n",
              "      <td>0</td>\n",
              "    </tr>\n",
              "    <tr>\n",
              "      <th>5</th>\n",
              "      <td>23</td>\n",
              "      <td>beijing</td>\n",
              "      <td>154</td>\n",
              "      <td>29</td>\n",
              "      <td>124</td>\n",
              "      <td>153</td>\n",
              "      <td>1.9</td>\n",
              "      <td>191</td>\n",
              "      <td>2</td>\n",
              "      <td>3</td>\n",
              "      <td>125</td>\n",
              "      <td>2015-09-16</td>\n",
              "      <td>0</td>\n",
              "    </tr>\n",
              "  </tbody>\n",
              "</table>\n",
              "</div>"
            ],
            "text/plain": [
              "   id CityEnglish  CityAvgAQI  AQI  PM2_5  PM10   CO  NO2  SO2  O3_1h  O3_8h  \\\n",
              "1  19     beijing         154   20    122   149  1.3  113    9     45    128   \n",
              "2  20     beijing         154   22    117   121  1.3  123    9     48    123   \n",
              "3  21     beijing         154   23    110   136  1.1   59    2     13     84   \n",
              "4  22     beijing         154   24    101   123  1.4  111    5      2     99   \n",
              "5  23     beijing         154   29    124   153  1.9  191    2      3    125   \n",
              "\n",
              "         Date  Hours  \n",
              "1  2015-09-16      0  \n",
              "2  2015-09-16      0  \n",
              "3  2015-09-16      0  \n",
              "4  2015-09-16      0  \n",
              "5  2015-09-16      0  "
            ]
          },
          "metadata": {
            "tags": []
          },
          "execution_count": 18
        }
      ]
    },
    {
      "metadata": {
        "id": "WR8xxWQQshZw",
        "colab_type": "text"
      },
      "cell_type": "markdown",
      "source": [
        "The Air Quality Index frequency  in Beijing, **2015** "
      ]
    },
    {
      "metadata": {
        "id": "erDA_SX_PiPV",
        "colab_type": "code",
        "outputId": "847029d1-59c2-4d00-88fc-55b74be77c93",
        "colab": {
          "base_uri": "https://localhost:8080/",
          "height": 594
        }
      },
      "cell_type": "code",
      "source": [
        "cleaned_aqI = air_data['AQI'].replace(0, aqi_mean, regex=True)\n",
        "conds = [air_data.AQI.between(0,50), air_data.AQI.between(51,100),\n",
        "         air_data.AQI.between(101,150), air_data.AQI.between(151,200), air_data.AQI.between(201,300), air_data.AQI.between(301,np.inf)]\n",
        "choices = [1,2,3,4,5,6]\n",
        "air_data['AQI_index'] = np.select(conds,choices, 5)\n",
        "categorized_aqi =  air_data['AQI_index']\n",
        "aqi_arr = air_data['AQI']\n",
        "arr = np.asarray(categorized_aqi)\n",
        "freq = np.bincount(arr)\n",
        "print(freq)\n",
        "data = {'Excellent': 76, 'Good':84, 'Lightly Polluted' :181, 'Moderately Polluted':221, 'Heavily Polluted':238, 'Severely Polluted':3}\n",
        "names = list(data.keys())\n",
        "values = list(data.values())\n",
        "fig, axs = plt.subplots(1, 3, figsize=(35, 8), sharey=True)\n",
        "axs[0].bar(names, values)\n",
        "axs[1].scatter(names, values)\n",
        "axs[2].plot(names, values)\n",
        "fig.suptitle('Air Quality Index')"
      ],
      "execution_count": 19,
      "outputs": [
        {
          "output_type": "stream",
          "text": [
            "[  0  76  79 168 213 223   3]\n"
          ],
          "name": "stdout"
        },
        {
          "output_type": "execute_result",
          "data": {
            "text/plain": [
              "Text(0.5, 0.98, 'Air Quality Index')"
            ]
          },
          "metadata": {
            "tags": []
          },
          "execution_count": 19
        },
        {
          "output_type": "display_data",
          "data": {
            "image/png": "[encoded data removed]",
            "text/plain": [
              "<Figure size 2520x576 with 3 Axes>"
            ]
          },
          "metadata": {
            "tags": []
          }
        }
      ]
    },
    {
      "metadata": {
        "id": "NjzUpRj4whOl",
        "colab_type": "code",
        "colab": {
          "base_uri": "https://localhost:8080/",
          "height": 34
        },
        "outputId": "1548d553-53af-4f9c-8da2-52583d7eaf1a"
      },
      "cell_type": "code",
      "source": [
        "air_data['Date'].unique()"
      ],
      "execution_count": 20,
      "outputs": [
        {
          "output_type": "execute_result",
          "data": {
            "text/plain": [
              "array(['2015-09-16', '2015-09-17', '2015-09-18'], dtype=object)"
            ]
          },
          "metadata": {
            "tags": []
          },
          "execution_count": 20
        }
      ]
    },
    {
      "metadata": {
        "id": "pIahWXLs996G",
        "colab_type": "code",
        "outputId": "311bb2ef-2ff8-4f5f-99f9-a1e48cfc989c",
        "colab": {
          "base_uri": "https://localhost:8080/",
          "height": 85
        }
      },
      "cell_type": "code",
      "source": [
        "air_data.index"
      ],
      "execution_count": 21,
      "outputs": [
        {
          "output_type": "execute_result",
          "data": {
            "text/plain": [
              "Int64Index([  1,   2,   3,   4,   5,   6,   7,   8,   9,  10,\n",
              "            ...\n",
              "            830, 831, 832, 833, 834, 835, 836, 837, 838, 839],\n",
              "           dtype='int64', length=762)"
            ]
          },
          "metadata": {
            "tags": []
          },
          "execution_count": 21
        }
      ]
    },
    {
      "metadata": {
        "id": "9jyg2y7T_GK5",
        "colab_type": "code",
        "colab": {
          "base_uri": "https://localhost:8080/",
          "height": 520
        },
        "outputId": "c7554877-0319-4ffa-a0de-cfaa5574057f"
      },
      "cell_type": "code",
      "source": [
        "air_data.PM2_5.plot(figsize=(35, 8))"
      ],
      "execution_count": 22,
      "outputs": [
        {
          "output_type": "execute_result",
          "data": {
            "text/plain": [
              "<matplotlib.axes._subplots.AxesSubplot at 0x7f0cec84a940>"
            ]
          },
          "metadata": {
            "tags": []
          },
          "execution_count": 22
        },
        {
          "output_type": "display_data",
          "data": {
            "image/png": "[encoded data removed]",
            "text/plain": [
              "<Figure size 2520x576 with 1 Axes>"
            ]
          },
          "metadata": {
            "tags": []
          }
        }
      ]
    },
    {
      "metadata": {
        "id": "WZXGwyJi_SsX",
        "colab_type": "text"
      },
      "cell_type": "markdown",
      "source": [
        "** Delete unused columns**"
      ]
    },
    {
      "metadata": {
        "id": "mmDYQD0A_Vxt",
        "colab_type": "code",
        "colab": {}
      },
      "cell_type": "code",
      "source": [
        "air_data = air_data.drop([\"id\", \"CityEnglish\", \"CityAvgAQI\",\"AQI\",\"PM10\",\"O3_8h\",\"Date\",\"Hours\"], axis=1)"
      ],
      "execution_count": 0,
      "outputs": []
    },
    {
      "metadata": {
        "id": "X_t_ZtXlAEvJ",
        "colab_type": "code",
        "colab": {
          "base_uri": "https://localhost:8080/",
          "height": 204
        },
        "outputId": "bd2ed0bb-c781-40b9-896c-073f60ccf86a"
      },
      "cell_type": "code",
      "source": [
        "air_data.head()"
      ],
      "execution_count": 26,
      "outputs": [
        {
          "output_type": "execute_result",
          "data": {
            "text/html": [
              "<div>\n",
              "<style scoped>\n",
              "    .dataframe tbody tr th:only-of-type {\n",
              "        vertical-align: middle;\n",
              "    }\n",
              "\n",
              "    .dataframe tbody tr th {\n",
              "        vertical-align: top;\n",
              "    }\n",
              "\n",
              "    .dataframe thead th {\n",
              "        text-align: right;\n",
              "    }\n",
              "</style>\n",
              "<table border=\"1\" class=\"dataframe\">\n",
              "  <thead>\n",
              "    <tr style=\"text-align: right;\">\n",
              "      <th></th>\n",
              "      <th>PM2_5</th>\n",
              "      <th>CO</th>\n",
              "      <th>NO2</th>\n",
              "      <th>SO2</th>\n",
              "      <th>O3_1h</th>\n",
              "      <th>AQI_index</th>\n",
              "    </tr>\n",
              "  </thead>\n",
              "  <tbody>\n",
              "    <tr>\n",
              "      <th>1</th>\n",
              "      <td>122</td>\n",
              "      <td>1.3</td>\n",
              "      <td>113</td>\n",
              "      <td>9</td>\n",
              "      <td>45</td>\n",
              "      <td>1</td>\n",
              "    </tr>\n",
              "    <tr>\n",
              "      <th>2</th>\n",
              "      <td>117</td>\n",
              "      <td>1.3</td>\n",
              "      <td>123</td>\n",
              "      <td>9</td>\n",
              "      <td>48</td>\n",
              "      <td>1</td>\n",
              "    </tr>\n",
              "    <tr>\n",
              "      <th>3</th>\n",
              "      <td>110</td>\n",
              "      <td>1.1</td>\n",
              "      <td>59</td>\n",
              "      <td>2</td>\n",
              "      <td>13</td>\n",
              "      <td>1</td>\n",
              "    </tr>\n",
              "    <tr>\n",
              "      <th>4</th>\n",
              "      <td>101</td>\n",
              "      <td>1.4</td>\n",
              "      <td>111</td>\n",
              "      <td>5</td>\n",
              "      <td>2</td>\n",
              "      <td>1</td>\n",
              "    </tr>\n",
              "    <tr>\n",
              "      <th>5</th>\n",
              "      <td>124</td>\n",
              "      <td>1.9</td>\n",
              "      <td>191</td>\n",
              "      <td>2</td>\n",
              "      <td>3</td>\n",
              "      <td>1</td>\n",
              "    </tr>\n",
              "  </tbody>\n",
              "</table>\n",
              "</div>"
            ],
            "text/plain": [
              "   PM2_5   CO  NO2  SO2  O3_1h  AQI_index\n",
              "1    122  1.3  113    9     45          1\n",
              "2    117  1.3  123    9     48          1\n",
              "3    110  1.1   59    2     13          1\n",
              "4    101  1.4  111    5      2          1\n",
              "5    124  1.9  191    2      3          1"
            ]
          },
          "metadata": {
            "tags": []
          },
          "execution_count": 26
        }
      ]
    },
    {
      "metadata": {
        "id": "nTtp0fJnAMkv",
        "colab_type": "code",
        "colab": {}
      },
      "cell_type": "code",
      "source": [
        "air_data = air_data.drop(['AQI_index'],axis=1)"
      ],
      "execution_count": 0,
      "outputs": []
    },
    {
      "metadata": {
        "id": "K8AXEH1IAbyg",
        "colab_type": "code",
        "colab": {
          "base_uri": "https://localhost:8080/",
          "height": 204
        },
        "outputId": "4ed1d194-bef1-4318-bba9-4eb4dd0ab6ac"
      },
      "cell_type": "code",
      "source": [
        "air_data.head()"
      ],
      "execution_count": 28,
      "outputs": [
        {
          "output_type": "execute_result",
          "data": {
            "text/html": [
              "<div>\n",
              "<style scoped>\n",
              "    .dataframe tbody tr th:only-of-type {\n",
              "        vertical-align: middle;\n",
              "    }\n",
              "\n",
              "    .dataframe tbody tr th {\n",
              "        vertical-align: top;\n",
              "    }\n",
              "\n",
              "    .dataframe thead th {\n",
              "        text-align: right;\n",
              "    }\n",
              "</style>\n",
              "<table border=\"1\" class=\"dataframe\">\n",
              "  <thead>\n",
              "    <tr style=\"text-align: right;\">\n",
              "      <th></th>\n",
              "      <th>PM2_5</th>\n",
              "      <th>CO</th>\n",
              "      <th>NO2</th>\n",
              "      <th>SO2</th>\n",
              "      <th>O3_1h</th>\n",
              "    </tr>\n",
              "  </thead>\n",
              "  <tbody>\n",
              "    <tr>\n",
              "      <th>1</th>\n",
              "      <td>122</td>\n",
              "      <td>1.3</td>\n",
              "      <td>113</td>\n",
              "      <td>9</td>\n",
              "      <td>45</td>\n",
              "    </tr>\n",
              "    <tr>\n",
              "      <th>2</th>\n",
              "      <td>117</td>\n",
              "      <td>1.3</td>\n",
              "      <td>123</td>\n",
              "      <td>9</td>\n",
              "      <td>48</td>\n",
              "    </tr>\n",
              "    <tr>\n",
              "      <th>3</th>\n",
              "      <td>110</td>\n",
              "      <td>1.1</td>\n",
              "      <td>59</td>\n",
              "      <td>2</td>\n",
              "      <td>13</td>\n",
              "    </tr>\n",
              "    <tr>\n",
              "      <th>4</th>\n",
              "      <td>101</td>\n",
              "      <td>1.4</td>\n",
              "      <td>111</td>\n",
              "      <td>5</td>\n",
              "      <td>2</td>\n",
              "    </tr>\n",
              "    <tr>\n",
              "      <th>5</th>\n",
              "      <td>124</td>\n",
              "      <td>1.9</td>\n",
              "      <td>191</td>\n",
              "      <td>2</td>\n",
              "      <td>3</td>\n",
              "    </tr>\n",
              "  </tbody>\n",
              "</table>\n",
              "</div>"
            ],
            "text/plain": [
              "   PM2_5   CO  NO2  SO2  O3_1h\n",
              "1    122  1.3  113    9     45\n",
              "2    117  1.3  123    9     48\n",
              "3    110  1.1   59    2     13\n",
              "4    101  1.4  111    5      2\n",
              "5    124  1.9  191    2      3"
            ]
          },
          "metadata": {
            "tags": []
          },
          "execution_count": 28
        }
      ]
    },
    {
      "metadata": {
        "id": "GBUAcXN5AoLS",
        "colab_type": "text"
      },
      "cell_type": "markdown",
      "source": [
        "**Data Normalization**"
      ]
    },
    {
      "metadata": {
        "id": "KP9XvcxKA8Za",
        "colab_type": "text"
      },
      "cell_type": "markdown",
      "source": [
        "**Import necessary libraries **"
      ]
    },
    {
      "metadata": {
        "id": "-K0GG5BfAjMj",
        "colab_type": "code",
        "colab": {}
      },
      "cell_type": "code",
      "source": [
        "from sklearn.datasets import load_iris\n",
        "from sklearn import preprocessing"
      ],
      "execution_count": 0,
      "outputs": []
    },
    {
      "metadata": {
        "id": "gEabdqmuBG0w",
        "colab_type": "code",
        "colab": {
          "base_uri": "https://localhost:8080/",
          "height": 34
        },
        "outputId": "6af1dfe3-4add-46c9-a410-db5fa6aaccd2"
      },
      "cell_type": "code",
      "source": [
        "print(air_data.shape)"
      ],
      "execution_count": 31,
      "outputs": [
        {
          "output_type": "stream",
          "text": [
            "(762, 5)\n"
          ],
          "name": "stdout"
        }
      ]
    },
    {
      "metadata": {
        "id": "lZpKN8LoBVQd",
        "colab_type": "code",
        "colab": {}
      },
      "cell_type": "code",
      "source": [
        "normalized_X = preprocessing.normalize(air_data)"
      ],
      "execution_count": 0,
      "outputs": []
    },
    {
      "metadata": {
        "id": "NQrWmXJ2Bt8V",
        "colab_type": "code",
        "colab": {
          "base_uri": "https://localhost:8080/",
          "height": 136
        },
        "outputId": "0866617f-79b7-440e-bac0-f7107eaddbb2"
      },
      "cell_type": "code",
      "source": [
        "normalized_X"
      ],
      "execution_count": 34,
      "outputs": [
        {
          "output_type": "execute_result",
          "data": {
            "text/plain": [
              "array([[0.70719362, 0.00753567, 0.6550236 , 0.05217002, 0.2608501 ],\n",
              "       [0.66233229, 0.00735925, 0.69629804, 0.05094864, 0.27172607],\n",
              "       [0.87635605, 0.00876356, 0.47004552, 0.01593375, 0.10356935],\n",
              "       ...,\n",
              "       [0.25603572, 0.00640089, 0.43206029, 0.03200447, 0.86412057],\n",
              "       [0.330254  , 0.00943583, 0.94358286, 0.01572638, 0.01572638],\n",
              "       [0.39137819, 0.01174135, 0.91973875, 0.01956891, 0.01956891]])"
            ]
          },
          "metadata": {
            "tags": []
          },
          "execution_count": 34
        }
      ]
    },
    {
      "metadata": {
        "id": "3khasFcEDVrO",
        "colab_type": "text"
      },
      "cell_type": "markdown",
      "source": [
        "**Finding the optimum number of clusters for k-means clustering**"
      ]
    },
    {
      "metadata": {
        "id": "UJPs13qDB-eJ",
        "colab_type": "code",
        "colab": {}
      },
      "cell_type": "code",
      "source": [
        "from sklearn.cluster import KMeans"
      ],
      "execution_count": 0,
      "outputs": []
    },
    {
      "metadata": {
        "id": "Ol9F_k9LDlOa",
        "colab_type": "code",
        "colab": {
          "base_uri": "https://localhost:8080/",
          "height": 294
        },
        "outputId": "f2fe5069-0b92-4cbe-8a32-3ac2b8cbeabd"
      },
      "cell_type": "code",
      "source": [
        "wcss = []\n",
        "for i in range(1, 11):\n",
        "    kmeans = KMeans(n_clusters = i, init = 'k-means++', max_iter = 300, n_init = 10, random_state = 0)\n",
        "    kmeans.fit(normalized_X)\n",
        "    wcss.append(kmeans.inertia_)\n",
        "#Plotting the results onto a line graph, allowing us to observe 'The elbow'\n",
        "plt.plot(range(1, 11), wcss)\n",
        "plt.title('The elbow method')\n",
        "plt.xlabel('Number of clusters')\n",
        "plt.ylabel('WCSS') #within cluster sum of squares\n",
        "plt.show()"
      ],
      "execution_count": 45,
      "outputs": [
        {
          "output_type": "display_data",
          "data": {
            "image/png": "[encoded data removed]",
            "text/plain": [
              "<Figure size 432x288 with 1 Axes>"
            ]
          },
          "metadata": {
            "tags": []
          }
        }
      ]
    },
    {
      "metadata": {
        "id": "9W39YjqzEDZJ",
        "colab_type": "code",
        "colab": {
          "base_uri": "https://localhost:8080/",
          "height": 283
        },
        "outputId": "20558c67-16ef-49ae-b1b3-5d732e3d0b6d"
      },
      "cell_type": "code",
      "source": [
        "kmeans = KMeans(n_clusters = 3, init = 'k-means++', max_iter = 300, n_init = 10, random_state = 0)\n",
        "y_kmeans = kmeans.fit_predict(normalized_X)\n",
        "\n",
        "y_kmeans\n",
        "\n",
        "#Visualising the clusters\n",
        "plt.scatter(x[y_kmeans == 0, 0], x[y_kmeans == 0, 1], s = 100, c = 'red', label = 'Cluster one')\n",
        "plt.scatter(x[y_kmeans == 1, 0], x[y_kmeans == 1, 1], s = 100, c = 'blue', label = 'Cluster Two')\n",
        "plt.scatter(x[y_kmeans == 2, 0], x[y_kmeans == 2, 1], s = 100, c = 'green', label = 'Cluster three')\n",
        "\n",
        "#Plotting the centroids of the clusters\n",
        "plt.scatter(kmeans.cluster_centers_[:, 0], kmeans.cluster_centers_[:,1], s = 100, c = 'yellow', label = 'Centroids')\n",
        "\n",
        "plt.legend()"
      ],
      "execution_count": 49,
      "outputs": [
        {
          "output_type": "execute_result",
          "data": {
            "text/plain": [
              "<matplotlib.legend.Legend at 0x7f0ce28ec9e8>"
            ]
          },
          "metadata": {
            "tags": []
          },
          "execution_count": 49
        },
        {
          "output_type": "display_data",
          "data": {
            "image/png": "[encoded data removed]",
            "text/plain": [
              "<Figure size 432x288 with 1 Axes>"
            ]
          },
          "metadata": {
            "tags": []
          }
        }
      ]
    },
    {
      "metadata": {
        "id": "SiIUidFEFmRE",
        "colab_type": "code",
        "colab": {}
      },
      "cell_type": "code",
      "source": [
        ""
      ],
      "execution_count": 0,
      "outputs": []
    }
  ]
}